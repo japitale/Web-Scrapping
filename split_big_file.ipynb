{
 "cells": [
  {
   "cell_type": "code",
   "execution_count": 328,
   "metadata": {},
   "outputs": [],
   "source": [
    "import pandas as pd\n",
    "import random"
   ]
  },
  {
   "cell_type": "code",
   "execution_count": 329,
   "metadata": {},
   "outputs": [],
   "source": [
    "split_source_file = \"D:\\\\akshay\\\\avocado.csv\"   #path where my input file is saved"
   ]
  },
  {
   "cell_type": "code",
   "execution_count": 330,
   "metadata": {},
   "outputs": [],
   "source": [
    "raw_data = pd.read_csv(split_source_file, header = 0)"
   ]
  },
  {
   "cell_type": "code",
   "execution_count": 331,
   "metadata": {},
   "outputs": [],
   "source": [
    "## find number of lines using Pandas\n",
    "number_of_rows = len(raw_data.index) +1"
   ]
  },
  {
   "cell_type": "code",
   "execution_count": 332,
   "metadata": {},
   "outputs": [
    {
     "name": "stdout",
     "output_type": "stream",
     "text": [
      "41\n"
     ]
    }
   ],
   "source": [
    "print(f\"{number_of_rows}\")   #This will give count excluding the header record."
   ]
  },
  {
   "cell_type": "code",
   "execution_count": 333,
   "metadata": {},
   "outputs": [],
   "source": [
    "## Incase of equal split, provide the same number for min and max\n",
    "#min_rows = int(input(\"Minimum Number of rows per file? : \"))\n",
    "#max_rows = int(input(\"Maximum Number of rows per file? : \"))\n",
    "\n",
    "min_rows = 10\n",
    "max_rows = 10"
   ]
  },
  {
   "cell_type": "code",
   "execution_count": 334,
   "metadata": {},
   "outputs": [],
   "source": [
    "file_increment = 1\n",
    "skip_rows = 1"
   ]
  },
  {
   "cell_type": "code",
   "execution_count": 335,
   "metadata": {},
   "outputs": [],
   "source": [
    "## first file random numbers\n",
    "number_of_rows_perfile = random.randint(min_rows, max_rows)"
   ]
  },
  {
   "cell_type": "code",
   "execution_count": 336,
   "metadata": {},
   "outputs": [],
   "source": [
    "while True:\n",
    "    if number_of_rows_perfile <= 0:\n",
    "        break\n",
    "    ## Read CSV file with number of rows and skip respective number of lines\n",
    "    #if raw_data is not None:\n",
    "    df = pd.read_csv(split_source_file,header = None, nrows = number_of_rows_perfile, skiprows = skip_rows)\n",
    "\n",
    "    \n",
    "    ##next(df, None)\n",
    "\n",
    "    ## Target file name\n",
    "    split_target_file = f\"{split_source_file[:-4]}_{file_increment}.csv\"\n",
    "\n",
    "    ## write to csv \n",
    "    df.to_csv(split_target_file, index=False, header=False, mode='a', chunksize=number_of_rows_perfile)\n",
    "\n",
    "    file_increment += 1\n",
    "\n",
    "    skip_rows += number_of_rows_perfile\n",
    "\n",
    "    ## Last file handler\n",
    "    if skip_rows >= number_of_rows:\n",
    "        number_of_rows_perfile = number_of_rows - skip_rows\n",
    "    else:\n",
    "        number_of_rows_perfile = random.randint(min_rows, max_rows)\n"
   ]
  },
  {
   "cell_type": "code",
   "execution_count": null,
   "metadata": {},
   "outputs": [],
   "source": []
  }
 ],
 "metadata": {
  "kernelspec": {
   "display_name": "Python 3",
   "language": "python",
   "name": "python3"
  },
  "language_info": {
   "codemirror_mode": {
    "name": "ipython",
    "version": 3
   },
   "file_extension": ".py",
   "mimetype": "text/x-python",
   "name": "python",
   "nbconvert_exporter": "python",
   "pygments_lexer": "ipython3",
   "version": "3.8.5"
  }
 },
 "nbformat": 4,
 "nbformat_minor": 4
}
